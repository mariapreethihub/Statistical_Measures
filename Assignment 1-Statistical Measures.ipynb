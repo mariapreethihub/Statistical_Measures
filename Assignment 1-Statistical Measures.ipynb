{
 "cells": [
  {
   "cell_type": "code",
   "execution_count": 3,
   "id": "bc2d755d-2bc6-41f5-b785-9b07ed97eae5",
   "metadata": {},
   "outputs": [],
   "source": [
    "# importing required libraries\n",
    "import numpy as np\n",
    "import pandas as pd\n",
    "import matplotlib.pyplot as plt\n",
    "import seaborn as sns\n",
    "from scipy.stats import zscore,skew,normaltest"
   ]
  },
  {
   "cell_type": "markdown",
   "id": "61d12227-833a-41aa-bb48-9c59f49dda5b",
   "metadata": {},
   "source": [
    "# Q1. Perform basic EDA "
   ]
  },
  {
   "cell_type": "code",
   "execution_count": 5,
   "id": "f713ca30-7445-4351-ade3-fa44bd826b0c",
   "metadata": {},
   "outputs": [
    {
     "data": {
      "text/html": [
       "<div>\n",
       "<style scoped>\n",
       "    .dataframe tbody tr th:only-of-type {\n",
       "        vertical-align: middle;\n",
       "    }\n",
       "\n",
       "    .dataframe tbody tr th {\n",
       "        vertical-align: top;\n",
       "    }\n",
       "\n",
       "    .dataframe thead th {\n",
       "        text-align: right;\n",
       "    }\n",
       "</style>\n",
       "<table border=\"1\" class=\"dataframe\">\n",
       "  <thead>\n",
       "    <tr style=\"text-align: right;\">\n",
       "      <th></th>\n",
       "      <th>location</th>\n",
       "      <th>size</th>\n",
       "      <th>total_sqft</th>\n",
       "      <th>bath</th>\n",
       "      <th>price</th>\n",
       "      <th>bhk</th>\n",
       "      <th>price_per_sqft</th>\n",
       "    </tr>\n",
       "  </thead>\n",
       "  <tbody>\n",
       "    <tr>\n",
       "      <th>0</th>\n",
       "      <td>Electronic City Phase II</td>\n",
       "      <td>2 BHK</td>\n",
       "      <td>1056.0</td>\n",
       "      <td>2.0</td>\n",
       "      <td>39.07</td>\n",
       "      <td>2</td>\n",
       "      <td>3699</td>\n",
       "    </tr>\n",
       "    <tr>\n",
       "      <th>1</th>\n",
       "      <td>Chikka Tirupathi</td>\n",
       "      <td>4 Bedroom</td>\n",
       "      <td>2600.0</td>\n",
       "      <td>5.0</td>\n",
       "      <td>120.00</td>\n",
       "      <td>4</td>\n",
       "      <td>4615</td>\n",
       "    </tr>\n",
       "    <tr>\n",
       "      <th>2</th>\n",
       "      <td>Uttarahalli</td>\n",
       "      <td>3 BHK</td>\n",
       "      <td>1440.0</td>\n",
       "      <td>2.0</td>\n",
       "      <td>62.00</td>\n",
       "      <td>3</td>\n",
       "      <td>4305</td>\n",
       "    </tr>\n",
       "    <tr>\n",
       "      <th>3</th>\n",
       "      <td>Lingadheeranahalli</td>\n",
       "      <td>3 BHK</td>\n",
       "      <td>1521.0</td>\n",
       "      <td>3.0</td>\n",
       "      <td>95.00</td>\n",
       "      <td>3</td>\n",
       "      <td>6245</td>\n",
       "    </tr>\n",
       "    <tr>\n",
       "      <th>4</th>\n",
       "      <td>Kothanur</td>\n",
       "      <td>2 BHK</td>\n",
       "      <td>1200.0</td>\n",
       "      <td>2.0</td>\n",
       "      <td>51.00</td>\n",
       "      <td>2</td>\n",
       "      <td>4250</td>\n",
       "    </tr>\n",
       "  </tbody>\n",
       "</table>\n",
       "</div>"
      ],
      "text/plain": [
       "                   location       size  total_sqft  bath   price  bhk  \\\n",
       "0  Electronic City Phase II      2 BHK      1056.0   2.0   39.07    2   \n",
       "1          Chikka Tirupathi  4 Bedroom      2600.0   5.0  120.00    4   \n",
       "2               Uttarahalli      3 BHK      1440.0   2.0   62.00    3   \n",
       "3        Lingadheeranahalli      3 BHK      1521.0   3.0   95.00    3   \n",
       "4                  Kothanur      2 BHK      1200.0   2.0   51.00    2   \n",
       "\n",
       "   price_per_sqft  \n",
       "0            3699  \n",
       "1            4615  \n",
       "2            4305  \n",
       "3            6245  \n",
       "4            4250  "
      ]
     },
     "execution_count": 5,
     "metadata": {},
     "output_type": "execute_result"
    }
   ],
   "source": [
    "## 1.Loading dataset\n",
    "data=pd.read_csv('house_price.csv')\n",
    "data.head()"
   ]
  },
  {
   "cell_type": "code",
   "execution_count": 6,
   "id": "a061f827-947e-4204-baad-13a978e7d0cd",
   "metadata": {},
   "outputs": [
    {
     "name": "stdout",
     "output_type": "stream",
     "text": [
      "<class 'pandas.core.frame.DataFrame'>\n",
      "RangeIndex: 13200 entries, 0 to 13199\n",
      "Data columns (total 7 columns):\n",
      " #   Column          Non-Null Count  Dtype  \n",
      "---  ------          --------------  -----  \n",
      " 0   location        13200 non-null  object \n",
      " 1   size            13200 non-null  object \n",
      " 2   total_sqft      13200 non-null  float64\n",
      " 3   bath            13200 non-null  float64\n",
      " 4   price           13200 non-null  float64\n",
      " 5   bhk             13200 non-null  int64  \n",
      " 6   price_per_sqft  13200 non-null  int64  \n",
      "dtypes: float64(3), int64(2), object(2)\n",
      "memory usage: 722.0+ KB\n"
     ]
    }
   ],
   "source": [
    "## 2.Checking for basic information\n",
    "data.info()"
   ]
  },
  {
   "cell_type": "code",
   "execution_count": 7,
   "id": "d26d0f7a-8f8f-4d9b-9f8b-1aa3ba7f8d89",
   "metadata": {},
   "outputs": [
    {
     "data": {
      "text/plain": [
       "location          0\n",
       "size              0\n",
       "total_sqft        0\n",
       "bath              0\n",
       "price             0\n",
       "bhk               0\n",
       "price_per_sqft    0\n",
       "dtype: int64"
      ]
     },
     "execution_count": 7,
     "metadata": {},
     "output_type": "execute_result"
    }
   ],
   "source": [
    "##3.Checking for null values\n",
    "data.isnull().sum()"
   ]
  },
  {
   "cell_type": "code",
   "execution_count": 10,
   "id": "f4a8e8ca-01ec-419b-9b17-935e5d2396cb",
   "metadata": {},
   "outputs": [],
   "source": [
    "# No null values "
   ]
  },
  {
   "cell_type": "code",
   "execution_count": 14,
   "id": "ce49e400-ea52-4ea7-b13b-2bc871d6a8fe",
   "metadata": {},
   "outputs": [],
   "source": [
    "# Changing the datatype of 'bath' as 'int'"
   ]
  },
  {
   "cell_type": "code",
   "execution_count": 16,
   "id": "7b0335cd-7d88-4a1b-bc49-7ae7021a19b1",
   "metadata": {},
   "outputs": [],
   "source": [
    "data['bath'] = data['bath'].astype(int)"
   ]
  },
  {
   "cell_type": "code",
   "execution_count": 18,
   "id": "e5ebbffd-78c3-4a0e-b17a-1d7f5859a8fe",
   "metadata": {},
   "outputs": [
    {
     "name": "stdout",
     "output_type": "stream",
     "text": [
      "<class 'pandas.core.frame.DataFrame'>\n",
      "RangeIndex: 13200 entries, 0 to 13199\n",
      "Data columns (total 7 columns):\n",
      " #   Column          Non-Null Count  Dtype  \n",
      "---  ------          --------------  -----  \n",
      " 0   location        13200 non-null  object \n",
      " 1   size            13200 non-null  object \n",
      " 2   total_sqft      13200 non-null  float64\n",
      " 3   bath            13200 non-null  int32  \n",
      " 4   price           13200 non-null  float64\n",
      " 5   bhk             13200 non-null  int64  \n",
      " 6   price_per_sqft  13200 non-null  int64  \n",
      "dtypes: float64(2), int32(1), int64(2), object(2)\n",
      "memory usage: 670.4+ KB\n"
     ]
    }
   ],
   "source": [
    "data.info()"
   ]
  },
  {
   "cell_type": "code",
   "execution_count": 20,
   "id": "eed5c758-d7fd-4e1d-8074-e14008ced9c7",
   "metadata": {},
   "outputs": [
    {
     "data": {
      "text/html": [
       "<div>\n",
       "<style scoped>\n",
       "    .dataframe tbody tr th:only-of-type {\n",
       "        vertical-align: middle;\n",
       "    }\n",
       "\n",
       "    .dataframe tbody tr th {\n",
       "        vertical-align: top;\n",
       "    }\n",
       "\n",
       "    .dataframe thead th {\n",
       "        text-align: right;\n",
       "    }\n",
       "</style>\n",
       "<table border=\"1\" class=\"dataframe\">\n",
       "  <thead>\n",
       "    <tr style=\"text-align: right;\">\n",
       "      <th></th>\n",
       "      <th>total_sqft</th>\n",
       "      <th>bath</th>\n",
       "      <th>price</th>\n",
       "      <th>bhk</th>\n",
       "      <th>price_per_sqft</th>\n",
       "    </tr>\n",
       "  </thead>\n",
       "  <tbody>\n",
       "    <tr>\n",
       "      <th>count</th>\n",
       "      <td>13200.000000</td>\n",
       "      <td>13200.000000</td>\n",
       "      <td>13200.000000</td>\n",
       "      <td>13200.000000</td>\n",
       "      <td>1.320000e+04</td>\n",
       "    </tr>\n",
       "    <tr>\n",
       "      <th>mean</th>\n",
       "      <td>1555.302783</td>\n",
       "      <td>2.691136</td>\n",
       "      <td>112.276178</td>\n",
       "      <td>2.800833</td>\n",
       "      <td>7.920337e+03</td>\n",
       "    </tr>\n",
       "    <tr>\n",
       "      <th>std</th>\n",
       "      <td>1237.323445</td>\n",
       "      <td>1.338915</td>\n",
       "      <td>149.175995</td>\n",
       "      <td>1.292843</td>\n",
       "      <td>1.067272e+05</td>\n",
       "    </tr>\n",
       "    <tr>\n",
       "      <th>min</th>\n",
       "      <td>1.000000</td>\n",
       "      <td>1.000000</td>\n",
       "      <td>8.000000</td>\n",
       "      <td>1.000000</td>\n",
       "      <td>2.670000e+02</td>\n",
       "    </tr>\n",
       "    <tr>\n",
       "      <th>25%</th>\n",
       "      <td>1100.000000</td>\n",
       "      <td>2.000000</td>\n",
       "      <td>50.000000</td>\n",
       "      <td>2.000000</td>\n",
       "      <td>4.267000e+03</td>\n",
       "    </tr>\n",
       "    <tr>\n",
       "      <th>50%</th>\n",
       "      <td>1275.000000</td>\n",
       "      <td>2.000000</td>\n",
       "      <td>71.850000</td>\n",
       "      <td>3.000000</td>\n",
       "      <td>5.438000e+03</td>\n",
       "    </tr>\n",
       "    <tr>\n",
       "      <th>75%</th>\n",
       "      <td>1672.000000</td>\n",
       "      <td>3.000000</td>\n",
       "      <td>120.000000</td>\n",
       "      <td>3.000000</td>\n",
       "      <td>7.317000e+03</td>\n",
       "    </tr>\n",
       "    <tr>\n",
       "      <th>max</th>\n",
       "      <td>52272.000000</td>\n",
       "      <td>40.000000</td>\n",
       "      <td>3600.000000</td>\n",
       "      <td>43.000000</td>\n",
       "      <td>1.200000e+07</td>\n",
       "    </tr>\n",
       "  </tbody>\n",
       "</table>\n",
       "</div>"
      ],
      "text/plain": [
       "         total_sqft          bath         price           bhk  price_per_sqft\n",
       "count  13200.000000  13200.000000  13200.000000  13200.000000    1.320000e+04\n",
       "mean    1555.302783      2.691136    112.276178      2.800833    7.920337e+03\n",
       "std     1237.323445      1.338915    149.175995      1.292843    1.067272e+05\n",
       "min        1.000000      1.000000      8.000000      1.000000    2.670000e+02\n",
       "25%     1100.000000      2.000000     50.000000      2.000000    4.267000e+03\n",
       "50%     1275.000000      2.000000     71.850000      3.000000    5.438000e+03\n",
       "75%     1672.000000      3.000000    120.000000      3.000000    7.317000e+03\n",
       "max    52272.000000     40.000000   3600.000000     43.000000    1.200000e+07"
      ]
     },
     "execution_count": 20,
     "metadata": {},
     "output_type": "execute_result"
    }
   ],
   "source": [
    "data.describe()"
   ]
  },
  {
   "cell_type": "code",
   "execution_count": 22,
   "id": "a8e22ed9-e295-49dd-b894-30ff19d04cb4",
   "metadata": {},
   "outputs": [
    {
     "data": {
      "text/plain": [
       "count    1.320000e+04\n",
       "mean     7.920337e+03\n",
       "std      1.067272e+05\n",
       "min      2.670000e+02\n",
       "25%      4.267000e+03\n",
       "50%      5.438000e+03\n",
       "75%      7.317000e+03\n",
       "max      1.200000e+07\n",
       "Name: price_per_sqft, dtype: float64"
      ]
     },
     "execution_count": 22,
     "metadata": {},
     "output_type": "execute_result"
    }
   ],
   "source": [
    "data['price_per_sqft'].describe()"
   ]
  },
  {
   "cell_type": "code",
   "execution_count": 24,
   "id": "b8b9f6a4-1ae7-4555-a0aa-70f51d93b64a",
   "metadata": {},
   "outputs": [
    {
     "data": {
      "text/plain": [
       "1049"
      ]
     },
     "execution_count": 24,
     "metadata": {},
     "output_type": "execute_result"
    }
   ],
   "source": [
    "## 4.checking for duplicate\n",
    "data.duplicated().sum()"
   ]
  },
  {
   "cell_type": "code",
   "execution_count": 26,
   "id": "25fec128-919d-47bf-9601-0038b9e351bc",
   "metadata": {},
   "outputs": [
    {
     "name": "stdout",
     "output_type": "stream",
     "text": [
      "               location       size  total_sqft  bath   price  bhk  \\\n",
      "239          Chandapura      1 BHK       645.0     1   16.45    1   \n",
      "735               other      2 BHK      1100.0     2   48.00    2   \n",
      "874          Chandapura      2 BHK      1015.0     2   25.88    2   \n",
      "882          Whitefield      2 BHK      1116.0     2   51.91    2   \n",
      "892      Kanakpura Road      1 BHK       525.0     1   26.00    1   \n",
      "...                 ...        ...         ...   ...     ...  ...   \n",
      "13179        Whitefield      4 BHK      2856.0     5  154.50    4   \n",
      "13186             other  4 Bedroom      1200.0     5  325.00    4   \n",
      "13191  Ramamurthy Nagar  7 Bedroom      1500.0     9  250.00    7   \n",
      "13193       Uttarahalli      3 BHK      1345.0     2   57.00    3   \n",
      "13199      Doddathoguru      1 BHK       550.0     1   17.00    1   \n",
      "\n",
      "       price_per_sqft  \n",
      "239              2550  \n",
      "735              4363  \n",
      "874              2549  \n",
      "882              4651  \n",
      "892              4952  \n",
      "...               ...  \n",
      "13179            5409  \n",
      "13186           27083  \n",
      "13191           16666  \n",
      "13193            4237  \n",
      "13199            3090  \n",
      "\n",
      "[1049 rows x 7 columns]\n"
     ]
    }
   ],
   "source": [
    "duplicate_rows = data[data.duplicated()]\n",
    "print(duplicate_rows)"
   ]
  },
  {
   "cell_type": "code",
   "execution_count": 28,
   "id": "cdf13674-2e81-4634-b538-f32659e7dcf2",
   "metadata": {},
   "outputs": [],
   "source": [
    "## 5. Removing duplicate rows\n",
    "data.drop_duplicates(inplace=True)"
   ]
  },
  {
   "cell_type": "code",
   "execution_count": 30,
   "id": "60551d1b-051b-4c47-9cda-c256494d8798",
   "metadata": {},
   "outputs": [
    {
     "data": {
      "text/plain": [
       "0"
      ]
     },
     "execution_count": 30,
     "metadata": {},
     "output_type": "execute_result"
    }
   ],
   "source": [
    "data.duplicated().sum()                     # Rechecking for duplicate rows"
   ]
  },
  {
   "cell_type": "code",
   "execution_count": 32,
   "id": "5f4f7c8f-b2c9-492a-b048-4e47a845106a",
   "metadata": {},
   "outputs": [
    {
     "data": {
      "text/html": [
       "<div>\n",
       "<style scoped>\n",
       "    .dataframe tbody tr th:only-of-type {\n",
       "        vertical-align: middle;\n",
       "    }\n",
       "\n",
       "    .dataframe tbody tr th {\n",
       "        vertical-align: top;\n",
       "    }\n",
       "\n",
       "    .dataframe thead th {\n",
       "        text-align: right;\n",
       "    }\n",
       "</style>\n",
       "<table border=\"1\" class=\"dataframe\">\n",
       "  <thead>\n",
       "    <tr style=\"text-align: right;\">\n",
       "      <th></th>\n",
       "      <th>location</th>\n",
       "      <th>total_sqft</th>\n",
       "      <th>bath</th>\n",
       "      <th>price</th>\n",
       "      <th>bhk</th>\n",
       "      <th>price_per_sqft</th>\n",
       "    </tr>\n",
       "  </thead>\n",
       "  <tbody>\n",
       "    <tr>\n",
       "      <th>0</th>\n",
       "      <td>Electronic City Phase II</td>\n",
       "      <td>1056.0</td>\n",
       "      <td>2</td>\n",
       "      <td>39.07</td>\n",
       "      <td>2</td>\n",
       "      <td>3699</td>\n",
       "    </tr>\n",
       "    <tr>\n",
       "      <th>1</th>\n",
       "      <td>Chikka Tirupathi</td>\n",
       "      <td>2600.0</td>\n",
       "      <td>5</td>\n",
       "      <td>120.00</td>\n",
       "      <td>4</td>\n",
       "      <td>4615</td>\n",
       "    </tr>\n",
       "    <tr>\n",
       "      <th>2</th>\n",
       "      <td>Uttarahalli</td>\n",
       "      <td>1440.0</td>\n",
       "      <td>2</td>\n",
       "      <td>62.00</td>\n",
       "      <td>3</td>\n",
       "      <td>4305</td>\n",
       "    </tr>\n",
       "    <tr>\n",
       "      <th>3</th>\n",
       "      <td>Lingadheeranahalli</td>\n",
       "      <td>1521.0</td>\n",
       "      <td>3</td>\n",
       "      <td>95.00</td>\n",
       "      <td>3</td>\n",
       "      <td>6245</td>\n",
       "    </tr>\n",
       "    <tr>\n",
       "      <th>4</th>\n",
       "      <td>Kothanur</td>\n",
       "      <td>1200.0</td>\n",
       "      <td>2</td>\n",
       "      <td>51.00</td>\n",
       "      <td>2</td>\n",
       "      <td>4250</td>\n",
       "    </tr>\n",
       "  </tbody>\n",
       "</table>\n",
       "</div>"
      ],
      "text/plain": [
       "                   location  total_sqft  bath   price  bhk  price_per_sqft\n",
       "0  Electronic City Phase II      1056.0     2   39.07    2            3699\n",
       "1          Chikka Tirupathi      2600.0     5  120.00    4            4615\n",
       "2               Uttarahalli      1440.0     2   62.00    3            4305\n",
       "3        Lingadheeranahalli      1521.0     3   95.00    3            6245\n",
       "4                  Kothanur      1200.0     2   51.00    2            4250"
      ]
     },
     "execution_count": 32,
     "metadata": {},
     "output_type": "execute_result"
    }
   ],
   "source": [
    "## 6.Dropping unnecessary column size(as bhk is already available)\n",
    "data.drop(columns=['size'],inplace=True)\n",
    "data.head()"
   ]
  },
  {
   "cell_type": "markdown",
   "id": "b959e6b2-d44e-4ec3-9ef9-b0d056c4b7c0",
   "metadata": {},
   "source": [
    "# Q2. Detect the outliers using following methods and remove it using methods like trimming / capping/ imputation using mean or median \n"
   ]
  },
  {
   "cell_type": "code",
   "execution_count": 35,
   "id": "e0df1395-e5b1-492c-aba1-86ee9f0c9bcf",
   "metadata": {},
   "outputs": [
    {
     "data": {
      "image/png": "[encoded data removed]",
      "text/plain": [
       "<Figure size 1000x800 with 1 Axes>"
      ]
     },
     "metadata": {},
     "output_type": "display_data"
    }
   ],
   "source": [
    "# Check for Outliers for the column 'price per sqft'\n",
    "# Using box plot\n",
    "plt.figure(figsize=(10, 8))\n",
    "sns.boxplot(x=data['price_per_sqft'],color = 'red').set_title('Price Per Sqft Outlier')\n",
    "plt.show()"
   ]
  },
  {
   "cell_type": "raw",
   "id": "27e6c78d-b0a6-4d87-abd0-737d27d75c77",
   "metadata": {},
   "source": [
    "a) Mean and Standard deviation"
   ]
  },
  {
   "cell_type": "code",
   "execution_count": 37,
   "id": "22a00598-cbda-40b3-8dd8-fe0590d0bc70",
   "metadata": {},
   "outputs": [
    {
     "name": "stdout",
     "output_type": "stream",
     "text": [
      "Mean :8132.641840177763 and Standard Deviation :111232.9008957087\n",
      "Lower boundary std -325566.06084694836\n",
      "Upper boundary std 341831.3445273039\n"
     ]
    },
    {
     "data": {
      "text/html": [
       "<div>\n",
       "<style scoped>\n",
       "    .dataframe tbody tr th:only-of-type {\n",
       "        vertical-align: middle;\n",
       "    }\n",
       "\n",
       "    .dataframe tbody tr th {\n",
       "        vertical-align: top;\n",
       "    }\n",
       "\n",
       "    .dataframe thead th {\n",
       "        text-align: right;\n",
       "    }\n",
       "</style>\n",
       "<table border=\"1\" class=\"dataframe\">\n",
       "  <thead>\n",
       "    <tr style=\"text-align: right;\">\n",
       "      <th></th>\n",
       "      <th>Original Data</th>\n",
       "      <th>After Outlier Removal</th>\n",
       "    </tr>\n",
       "  </thead>\n",
       "  <tbody>\n",
       "    <tr>\n",
       "      <th>count</th>\n",
       "      <td>1.215100e+04</td>\n",
       "      <td>12146.000000</td>\n",
       "    </tr>\n",
       "    <tr>\n",
       "      <th>mean</th>\n",
       "      <td>8.132642e+03</td>\n",
       "      <td>6821.889593</td>\n",
       "    </tr>\n",
       "    <tr>\n",
       "      <th>std</th>\n",
       "      <td>1.112329e+05</td>\n",
       "      <td>4988.483439</td>\n",
       "    </tr>\n",
       "    <tr>\n",
       "      <th>min</th>\n",
       "      <td>2.670000e+02</td>\n",
       "      <td>267.000000</td>\n",
       "    </tr>\n",
       "    <tr>\n",
       "      <th>25%</th>\n",
       "      <td>4.312000e+03</td>\n",
       "      <td>4312.000000</td>\n",
       "    </tr>\n",
       "    <tr>\n",
       "      <th>50%</th>\n",
       "      <td>5.500000e+03</td>\n",
       "      <td>5500.000000</td>\n",
       "    </tr>\n",
       "    <tr>\n",
       "      <th>75%</th>\n",
       "      <td>7.461000e+03</td>\n",
       "      <td>7456.750000</td>\n",
       "    </tr>\n",
       "    <tr>\n",
       "      <th>max</th>\n",
       "      <td>1.200000e+07</td>\n",
       "      <td>200000.000000</td>\n",
       "    </tr>\n",
       "  </tbody>\n",
       "</table>\n",
       "</div>"
      ],
      "text/plain": [
       "       Original Data  After Outlier Removal\n",
       "count   1.215100e+04           12146.000000\n",
       "mean    8.132642e+03            6821.889593\n",
       "std     1.112329e+05            4988.483439\n",
       "min     2.670000e+02             267.000000\n",
       "25%     4.312000e+03            4312.000000\n",
       "50%     5.500000e+03            5500.000000\n",
       "75%     7.461000e+03            7456.750000\n",
       "max     1.200000e+07          200000.000000"
      ]
     },
     "execution_count": 37,
     "metadata": {},
     "output_type": "execute_result"
    }
   ],
   "source": [
    "# Detecting Outliers\n",
    "mean = data['price_per_sqft'].mean()\n",
    "std_dev = data['price_per_sqft'].std()\n",
    "print(f\"Mean :{mean} and Standard Deviation :{std_dev}\")\n",
    "\n",
    "lower_bound_std = mean - 3 * std_dev\n",
    "upper_bound_std = mean + 3 * std_dev\n",
    "print(\"Lower boundary std\",lower_bound_std)\n",
    "print(\"Upper boundary std\",upper_bound_std)\n",
    "\n",
    "# Handling Outliers\n",
    "# 1.Trimming\n",
    "data_std = data.copy()\n",
    "data_std = data[(data['price_per_sqft'] >= lower_bound_std) & \n",
    "           (data['price_per_sqft'] <= upper_bound_std)] # contain data that falls within lower boundary and less than higher bound.\n",
    "\n",
    "comparison_df = pd.DataFrame({'Original Data':data['price_per_sqft'].describe() , 'After Outlier Removal':data_std['price_per_sqft'].describe()})\n",
    "comparison_df\n"
   ]
  },
  {
   "cell_type": "raw",
   "id": "8db4dd5d-69bb-4f84-aea3-ee7315b71e76",
   "metadata": {},
   "source": [
    "Mean dropped from 8,132.64 to 6,821.89, showing that high outliers made the original average higher .\n",
    "Standard deviation decreased significantly from 111,232.90 to 4,988.48, meaning extreme values were affecting the data.\n",
    "Max value is still high (200,000) even after filtering, so the 3-sigma method didn’t remove all outliers.\n",
    "Lower bound came out negative (-325,566.06), which doesn’t make sense since prices can’t be negative."
   ]
  },
  {
   "cell_type": "raw",
   "id": "24912437-4e79-4bb5-929c-113b99755313",
   "metadata": {},
   "source": [
    "b)Percentile method"
   ]
  },
  {
   "cell_type": "code",
   "execution_count": 39,
   "id": "4e0ef5d0-5b8e-4ba6-ac20-3ceb7e3d7bc8",
   "metadata": {},
   "outputs": [
    {
     "name": "stdout",
     "output_type": "stream",
     "text": [
      "Lower Percentile 3150.0\n",
      "Upper Percentile 15600.0\n"
     ]
    },
    {
     "data": {
      "text/html": [
       "<div>\n",
       "<style scoped>\n",
       "    .dataframe tbody tr th:only-of-type {\n",
       "        vertical-align: middle;\n",
       "    }\n",
       "\n",
       "    .dataframe tbody tr th {\n",
       "        vertical-align: top;\n",
       "    }\n",
       "\n",
       "    .dataframe thead th {\n",
       "        text-align: right;\n",
       "    }\n",
       "</style>\n",
       "<table border=\"1\" class=\"dataframe\">\n",
       "  <thead>\n",
       "    <tr style=\"text-align: right;\">\n",
       "      <th></th>\n",
       "      <th>Original Data</th>\n",
       "      <th>After Outlier Removal</th>\n",
       "    </tr>\n",
       "  </thead>\n",
       "  <tbody>\n",
       "    <tr>\n",
       "      <th>count</th>\n",
       "      <td>1.215100e+04</td>\n",
       "      <td>12151.000000</td>\n",
       "    </tr>\n",
       "    <tr>\n",
       "      <th>mean</th>\n",
       "      <td>8.132642e+03</td>\n",
       "      <td>6551.178175</td>\n",
       "    </tr>\n",
       "    <tr>\n",
       "      <th>std</th>\n",
       "      <td>1.112329e+05</td>\n",
       "      <td>3278.243151</td>\n",
       "    </tr>\n",
       "    <tr>\n",
       "      <th>min</th>\n",
       "      <td>2.670000e+02</td>\n",
       "      <td>3150.000000</td>\n",
       "    </tr>\n",
       "    <tr>\n",
       "      <th>25%</th>\n",
       "      <td>4.312000e+03</td>\n",
       "      <td>4312.000000</td>\n",
       "    </tr>\n",
       "    <tr>\n",
       "      <th>50%</th>\n",
       "      <td>5.500000e+03</td>\n",
       "      <td>5500.000000</td>\n",
       "    </tr>\n",
       "    <tr>\n",
       "      <th>75%</th>\n",
       "      <td>7.461000e+03</td>\n",
       "      <td>7461.000000</td>\n",
       "    </tr>\n",
       "    <tr>\n",
       "      <th>max</th>\n",
       "      <td>1.200000e+07</td>\n",
       "      <td>15600.000000</td>\n",
       "    </tr>\n",
       "  </tbody>\n",
       "</table>\n",
       "</div>"
      ],
      "text/plain": [
       "       Original Data  After Outlier Removal\n",
       "count   1.215100e+04           12151.000000\n",
       "mean    8.132642e+03            6551.178175\n",
       "std     1.112329e+05            3278.243151\n",
       "min     2.670000e+02            3150.000000\n",
       "25%     4.312000e+03            4312.000000\n",
       "50%     5.500000e+03            5500.000000\n",
       "75%     7.461000e+03            7461.000000\n",
       "max     1.200000e+07           15600.000000"
      ]
     },
     "execution_count": 39,
     "metadata": {},
     "output_type": "execute_result"
    }
   ],
   "source": [
    "# Detecting Outliers\n",
    "data_percentile = data.copy()\n",
    "lower_percentile = np.percentile(data['price_per_sqft'], 5)\n",
    "upper_percentile = np.percentile(data['price_per_sqft'], 95)\n",
    "print(\"Lower Percentile\",lower_percentile)\n",
    "print(\"Upper Percentile\",upper_percentile)\n",
    "\n",
    "# Handling Outliers\n",
    "# 1.Capping\n",
    "\n",
    "data_percentile['price_per_sqft'] = np.where(\n",
    "    data_percentile['price_per_sqft'] > upper_percentile, upper_percentile, data_percentile['price_per_sqft']\n",
    ")\n",
    "data_percentile['price_per_sqft'] = np.where(\n",
    "    data_percentile['price_per_sqft'] < lower_percentile, lower_percentile, data_percentile['price_per_sqft']\n",
    ")\n",
    "\n",
    "comparison_df = pd.DataFrame({'Original Data':data['price_per_sqft'].describe() , 'After Outlier Removal':data_percentile['price_per_sqft'].describe()})\n",
    "comparison_df"
   ]
  },
  {
   "cell_type": "raw",
   "id": "355ab9c1-16f0-49f8-9e1b-7d620298535c",
   "metadata": {},
   "source": [
    "Mean dropped from 8,132.64 to 6,551.17, showing that high outliers made the original average higher .\n",
    "Standard deviation reduced significantly from 111,232.90 to 3278.24, \n",
    "Max value reduced from 12,000,000 to 15,600, meaning the 95th percentile filtering removed extreme outliers.\n",
    "Min value increased from 267 to 3,150, so very low outliers were also removed."
   ]
  },
  {
   "cell_type": "raw",
   "id": "9cc631a4-f2fd-4116-aa22-977b5e5e7aa1",
   "metadata": {},
   "source": [
    "c) IQR(Inter quartile range method)"
   ]
  },
  {
   "cell_type": "code",
   "execution_count": 41,
   "id": "1fb569be-550e-47b7-b5dc-484b910a20fc",
   "metadata": {},
   "outputs": [
    {
     "name": "stdout",
     "output_type": "stream",
     "text": [
      "Q1: 4312.0\n",
      "Q3: 7461.0\n",
      "Lower Bound: -411.5\n",
      "Upper Bound 12184.5\n"
     ]
    },
    {
     "data": {
      "text/html": [
       "<div>\n",
       "<style scoped>\n",
       "    .dataframe tbody tr th:only-of-type {\n",
       "        vertical-align: middle;\n",
       "    }\n",
       "\n",
       "    .dataframe tbody tr th {\n",
       "        vertical-align: top;\n",
       "    }\n",
       "\n",
       "    .dataframe thead th {\n",
       "        text-align: right;\n",
       "    }\n",
       "</style>\n",
       "<table border=\"1\" class=\"dataframe\">\n",
       "  <thead>\n",
       "    <tr style=\"text-align: right;\">\n",
       "      <th></th>\n",
       "      <th>Original Data</th>\n",
       "      <th>After Outlier Removal</th>\n",
       "    </tr>\n",
       "  </thead>\n",
       "  <tbody>\n",
       "    <tr>\n",
       "      <th>count</th>\n",
       "      <td>1.215100e+04</td>\n",
       "      <td>12151.000000</td>\n",
       "    </tr>\n",
       "    <tr>\n",
       "      <th>mean</th>\n",
       "      <td>8.132642e+03</td>\n",
       "      <td>5662.487120</td>\n",
       "    </tr>\n",
       "    <tr>\n",
       "      <th>std</th>\n",
       "      <td>1.112329e+05</td>\n",
       "      <td>1946.407247</td>\n",
       "    </tr>\n",
       "    <tr>\n",
       "      <th>min</th>\n",
       "      <td>2.670000e+02</td>\n",
       "      <td>267.000000</td>\n",
       "    </tr>\n",
       "    <tr>\n",
       "      <th>25%</th>\n",
       "      <td>4.312000e+03</td>\n",
       "      <td>4312.000000</td>\n",
       "    </tr>\n",
       "    <tr>\n",
       "      <th>50%</th>\n",
       "      <td>5.500000e+03</td>\n",
       "      <td>5500.000000</td>\n",
       "    </tr>\n",
       "    <tr>\n",
       "      <th>75%</th>\n",
       "      <td>7.461000e+03</td>\n",
       "      <td>6517.000000</td>\n",
       "    </tr>\n",
       "    <tr>\n",
       "      <th>max</th>\n",
       "      <td>1.200000e+07</td>\n",
       "      <td>12173.000000</td>\n",
       "    </tr>\n",
       "  </tbody>\n",
       "</table>\n",
       "</div>"
      ],
      "text/plain": [
       "       Original Data  After Outlier Removal\n",
       "count   1.215100e+04           12151.000000\n",
       "mean    8.132642e+03            5662.487120\n",
       "std     1.112329e+05            1946.407247\n",
       "min     2.670000e+02             267.000000\n",
       "25%     4.312000e+03            4312.000000\n",
       "50%     5.500000e+03            5500.000000\n",
       "75%     7.461000e+03            6517.000000\n",
       "max     1.200000e+07           12173.000000"
      ]
     },
     "execution_count": 41,
     "metadata": {},
     "output_type": "execute_result"
    }
   ],
   "source": [
    "\n",
    "# Detecting Outliers\n",
    "Q1,Q3=np.percentile(data['price_per_sqft'],[25,75])\n",
    "IQR = Q3 - Q1\n",
    "lower_bound = Q1-1.5*IQR\n",
    "upper_bound = Q3+1.5*IQR\n",
    "print(\"Q1:\",Q1)\n",
    "print(\"Q3:\",Q3)\n",
    "print(\"Lower Bound:\",lower_bound)\n",
    "print(\"Upper Bound\",upper_bound)\n",
    "\n",
    "#Handling Outliers\n",
    "# 1.Imputing with median\n",
    "data_IQR= data.copy()\n",
    "\n",
    "median_IQR = data['price_per_sqft'].median()\n",
    "\n",
    "# Replace outliers with median\n",
    "\n",
    "data_IQR['price_per_sqft'] = np.where(data_IQR['price_per_sqft'] > upper_bound, median_IQR, data_IQR['price_per_sqft'])\n",
    "data_IQR['price_per_sqft'] = np.where(data_IQR['price_per_sqft'] < lower_bound, median_IQR, data_IQR['price_per_sqft'])\n",
    "\n",
    "comparison_df = pd.DataFrame({'Original Data':data['price_per_sqft'].describe() , 'After Outlier Removal':data_IQR['price_per_sqft'].describe()})\n",
    "comparison_df"
   ]
  },
  {
   "cell_type": "raw",
   "id": "6b708b8f-ca8e-4eb2-b63a-ba5cc0b78236",
   "metadata": {},
   "source": [
    "Mean dropped from 8,132.64 to 5,662.48, showing that high outliers made the original average higher .\n",
    "Standard deviation reduced significantly from 111,232.90 to 1946.40, showing that extreme values were affecting the data spread..\n",
    "Max value decreased from 12,000,000 to 12,173, meaning the IQR method effectively removed extreme outliers.\n",
    "Min value 267 remained unchanged, indicating that very low values were not considered outliers by this method.\n",
    "Lower bound came out negative (-411.5), which isn't practical for price data, though no negative values exist in the filtered data."
   ]
  },
  {
   "cell_type": "raw",
   "id": "97849741-2925-43ba-a8c6-cf85fcc86947",
   "metadata": {},
   "source": [
    "d) Z Score method"
   ]
  },
  {
   "cell_type": "code",
   "execution_count": 43,
   "id": "18a6e0a0-785e-4a5c-b2e9-4e4c46666b00",
   "metadata": {},
   "outputs": [
    {
     "data": {
      "text/html": [
       "<div>\n",
       "<style scoped>\n",
       "    .dataframe tbody tr th:only-of-type {\n",
       "        vertical-align: middle;\n",
       "    }\n",
       "\n",
       "    .dataframe tbody tr th {\n",
       "        vertical-align: top;\n",
       "    }\n",
       "\n",
       "    .dataframe thead th {\n",
       "        text-align: right;\n",
       "    }\n",
       "</style>\n",
       "<table border=\"1\" class=\"dataframe\">\n",
       "  <thead>\n",
       "    <tr style=\"text-align: right;\">\n",
       "      <th></th>\n",
       "      <th>Original Data</th>\n",
       "      <th>After Outlier Removal</th>\n",
       "    </tr>\n",
       "  </thead>\n",
       "  <tbody>\n",
       "    <tr>\n",
       "      <th>count</th>\n",
       "      <td>1.215100e+04</td>\n",
       "      <td>12151.000000</td>\n",
       "    </tr>\n",
       "    <tr>\n",
       "      <th>mean</th>\n",
       "      <td>8.132642e+03</td>\n",
       "      <td>6959.742221</td>\n",
       "    </tr>\n",
       "    <tr>\n",
       "      <th>std</th>\n",
       "      <td>1.112329e+05</td>\n",
       "      <td>8428.609370</td>\n",
       "    </tr>\n",
       "    <tr>\n",
       "      <th>min</th>\n",
       "      <td>2.670000e+02</td>\n",
       "      <td>267.000000</td>\n",
       "    </tr>\n",
       "    <tr>\n",
       "      <th>25%</th>\n",
       "      <td>4.312000e+03</td>\n",
       "      <td>4312.000000</td>\n",
       "    </tr>\n",
       "    <tr>\n",
       "      <th>50%</th>\n",
       "      <td>5.500000e+03</td>\n",
       "      <td>5500.000000</td>\n",
       "    </tr>\n",
       "    <tr>\n",
       "      <th>75%</th>\n",
       "      <td>7.461000e+03</td>\n",
       "      <td>7461.000000</td>\n",
       "    </tr>\n",
       "    <tr>\n",
       "      <th>max</th>\n",
       "      <td>1.200000e+07</td>\n",
       "      <td>341831.344527</td>\n",
       "    </tr>\n",
       "  </tbody>\n",
       "</table>\n",
       "</div>"
      ],
      "text/plain": [
       "       Original Data  After Outlier Removal\n",
       "count   1.215100e+04           12151.000000\n",
       "mean    8.132642e+03            6959.742221\n",
       "std     1.112329e+05            8428.609370\n",
       "min     2.670000e+02             267.000000\n",
       "25%     4.312000e+03            4312.000000\n",
       "50%     5.500000e+03            5500.000000\n",
       "75%     7.461000e+03            7461.000000\n",
       "max     1.200000e+07          341831.344527"
      ]
     },
     "execution_count": 43,
     "metadata": {},
     "output_type": "execute_result"
    }
   ],
   "source": [
    "data_zscore = data.copy()\n",
    "data_zscore['z_score'] = zscore(data_zscore['price_per_sqft'])\n",
    "\n",
    "\n",
    "threshold = 3\n",
    "\n",
    "# Handling Outliers using Capping\n",
    "\n",
    "upper_bound = data_zscore['price_per_sqft'].mean() + (threshold * data_zscore['price_per_sqft'].std())\n",
    "lower_bound = data_zscore['price_per_sqft'].mean() - (threshold * data_zscore['price_per_sqft'].std())\n",
    "\n",
    "# Capping\n",
    "data_zscore['price_per_sqft'] = np.where(data_zscore['z_score'] > threshold, upper_bound, data_zscore['price_per_sqft'])\n",
    "data_zscore['price_per_sqft'] = np.where(data_zscore['z_score'] < -threshold, lower_bound, data_zscore['price_per_sqft'])\n",
    "comparison_df = pd.DataFrame({'Original Data':data['price_per_sqft'].describe() , 'After Outlier Removal':data_zscore['price_per_sqft'].describe()})\n",
    "comparison_df"
   ]
  },
  {
   "cell_type": "raw",
   "id": "79e47a50-aa12-4f79-90fd-59fda7430f33",
   "metadata": {},
   "source": [
    "Mean dropped from 8,132.64 to 6,959.74, showing that extreme values were affecting the data spread..\n",
    "Standard deviation reduced significantly from 111,232.90 to 8428.60, showing that extreme values were affecting the data spread..\n",
    "Max value decreased from 12,000,000 to 341831, so the Z-score method removed extreme outliers but still retained some high values.\n",
    "Min value (267) remained unchanged, meaning very low values were not considered outliers by this method.\n"
   ]
  },
  {
   "cell_type": "markdown",
   "id": "ab29d502-fbb8-4e0e-872c-ad924235c0cc",
   "metadata": {},
   "source": [
    "# Q3. Create a box plot and use this to determine which method seems to work best to remove outliers for this data? "
   ]
  },
  {
   "cell_type": "code",
   "execution_count": 46,
   "id": "541da63e-3472-46a9-b64b-690c2aa718f8",
   "metadata": {},
   "outputs": [
    {
     "data": {
      "image/png": "[encoded data removed]",
      "text/plain": [
       "<Figure size 640x480 with 5 Axes>"
      ]
     },
     "metadata": {},
     "output_type": "display_data"
    }
   ],
   "source": [
    "plt.subplot(1,5,1)\n",
    "sns.boxplot(data['price_per_sqft'])\n",
    "plt.title(\"Original Data\")\n",
    "\n",
    "plt.subplot(1, 5, 2)\n",
    "sns.boxplot(data_std['price_per_sqft'])\n",
    "plt.title(\"Mean-Std\")\n",
    "\n",
    "plt.subplot(1, 5, 3)\n",
    "sns.boxplot(data_percentile['price_per_sqft'])\n",
    "plt.title(\"Percentile Method\")\n",
    "\n",
    "plt.subplot(1, 5, 4)\n",
    "sns.boxplot(data_IQR['price_per_sqft'])\n",
    "plt.title(\"IQR Method\")\n",
    "\n",
    "plt.subplot(1, 5, 5)\n",
    "sns.boxplot(data_zscore['price_per_sqft'])\n",
    "plt.title(\"Z-Score Method\")\n",
    "\n",
    "plt.tight_layout()\n",
    "plt.show()"
   ]
  },
  {
   "cell_type": "raw",
   "id": "4b082140-88d4-44c7-a1f8-b6b402347057",
   "metadata": {},
   "source": [
    "IQR Method is the best choices for handling outliers.\n",
    "It effectively removed extreme outliers, reducing max value from 12,000,000 to 15,600, making the dataset more realistic.\n",
    "The mean (average) became more balanced, avoiding the skew caused by extreme values.\n",
    "It kept 90% of the data intact, ensuring no major data loss."
   ]
  },
  {
   "cell_type": "markdown",
   "id": "7eca093d-24a5-4838-b76a-7dbef8c39c5f",
   "metadata": {},
   "source": [
    "# Q4. Draw histplot to check the normality of the column(price per sqft column) and perform transformations if needed. Check the skewness and kurtosis before and after the transformation. "
   ]
  },
  {
   "cell_type": "raw",
   "id": "413e55cf-62f6-4e4d-ae18-17d310951ae4",
   "metadata": {},
   "source": [
    "# Checking Normality using Histogram"
   ]
  },
  {
   "cell_type": "code",
   "execution_count": 53,
   "id": "c1a6ee2a-f264-41c8-9eb0-8d9536cf2034",
   "metadata": {},
   "outputs": [
    {
     "data": {
      "image/png": "[encoded data removed]",
      "text/plain": [
       "<Figure size 1000x500 with 1 Axes>"
      ]
     },
     "metadata": {},
     "output_type": "display_data"
    }
   ],
   "source": [
    "plt.figure(figsize=(10, 5))\n",
    "sns.histplot(data['price_per_sqft'], bins=30, kde=True)\n",
    "plt.title('Original Data-Price Per Sqft')\n",
    "plt.xlabel(['price_per_sqft'])\n",
    "plt.ylabel('Frequency')\n",
    "plt.show()"
   ]
  },
  {
   "cell_type": "code",
   "execution_count": null,
   "id": "5a54154d-37a7-4605-a4df-c14e6bd242ee",
   "metadata": {},
   "outputs": [],
   "source": [
    "# Findig skewness and kurtosis"
   ]
  },
  {
   "cell_type": "code",
   "execution_count": 55,
   "id": "51a1900a-0538-420e-be68-e650d4124dff",
   "metadata": {},
   "outputs": [
    {
     "name": "stdout",
     "output_type": "stream",
     "text": [
      "103.90203228991889\n",
      "11135.81306761006\n"
     ]
    }
   ],
   "source": [
    "skew_original = data['price_per_sqft'].skew()\n",
    "kurt_original = data['price_per_sqft'].kurt()\n",
    "print(skew_original)\n",
    "print(kurt_original)"
   ]
  },
  {
   "cell_type": "code",
   "execution_count": 57,
   "id": "d2fdef05-de96-4bd1-b150-e005dab14a81",
   "metadata": {},
   "outputs": [],
   "source": [
    "# Removing skewness"
   ]
  },
  {
   "cell_type": "code",
   "execution_count": 59,
   "id": "62b2f0b3-f3eb-4d22-a58c-73f86e699047",
   "metadata": {},
   "outputs": [],
   "source": [
    "data['price_per_sqft_log'] = np.log1p(data['price_per_sqft'])"
   ]
  },
  {
   "cell_type": "code",
   "execution_count": 61,
   "id": "d1f1f0aa-f0b7-47d6-b453-b0e888f4c68a",
   "metadata": {},
   "outputs": [],
   "source": [
    "# After transformation"
   ]
  },
  {
   "cell_type": "code",
   "execution_count": 63,
   "id": "943f38b1-a7e2-4525-b314-27080e92cecf",
   "metadata": {},
   "outputs": [],
   "source": [
    "skew_log = data['price_per_sqft_log'].skew()\n",
    "kurt_log = data['price_per_sqft_log'].kurt()"
   ]
  },
  {
   "cell_type": "code",
   "execution_count": 85,
   "id": "1ee1bbbb-afd0-4afc-b5d2-baaa41501c8f",
   "metadata": {},
   "outputs": [
    {
     "name": "stdout",
     "output_type": "stream",
     "text": [
      "Skewness before transformation: 103.90203228991889\t Skewness after transformation:1.401043314411164\n",
      "Kurtosis before transformation: 11135.81306761006\t Kurtosis after transformation:9.408799464773509\n"
     ]
    }
   ],
   "source": [
    "print(f\"Skewness before transformation: {skew_original}\\t Skewness after transformation:{skew_log}\")\n",
    "print(f\"Kurtosis before transformation: {kurt_original}\\t Kurtosis after transformation:{kurt_log}\")"
   ]
  },
  {
   "cell_type": "raw",
   "id": "a5398b37-a8e0-40cf-a1fa-978cbc97eeb2",
   "metadata": {},
   "source": [
    "The log transformation significantly reduces skewness and kurtosis, making the data closer to normal distribution."
   ]
  },
  {
   "cell_type": "code",
   "execution_count": 67,
   "id": "6774e1ee-153f-4079-9a3e-14b5671dd7cf",
   "metadata": {},
   "outputs": [
    {
     "data": {
      "image/png": "[encoded data removed]",
      "text/plain": [
       "<Figure size 800x600 with 2 Axes>"
      ]
     },
     "metadata": {},
     "output_type": "display_data"
    }
   ],
   "source": [
    "fig, axes = plt.subplots(1,2,figsize=(8,6))\n",
    "sns.histplot(data['price_per_sqft'], ax = axes[0],bins=50,kde=True).set_title('Before transformation')\n",
    "sns.histplot(data['price_per_sqft_log'], ax = axes[1],bins=50,kde=True).set_title('After transformation')\n",
    "plt.show()"
   ]
  },
  {
   "cell_type": "code",
   "execution_count": 89,
   "id": "7c5988e7-fef5-4b81-be05-c8ff0a519192",
   "metadata": {},
   "outputs": [
    {
     "name": "stdout",
     "output_type": "stream",
     "text": [
      "Normality Test p-value: 0.0\n",
      "Data is not normally distributed.\n"
     ]
    }
   ],
   "source": [
    "# Performing Normality Test\n",
    "stat, p = normaltest(data['price_per_sqft_log'])\n",
    "print(\"Normality Test p-value:\", p)\n",
    "\n",
    "if p < 0.05:\n",
    "    print(\"Data is not normally distributed.\")\n",
    "else:\n",
    "    print(\"Data is normally distributed.\")\n"
   ]
  },
  {
   "cell_type": "code",
   "execution_count": null,
   "id": "df4d5dc0-ebda-4731-8342-25f9179dc8ab",
   "metadata": {},
   "outputs": [],
   "source": [
    "Null Hypothesis (H₀) – Data is Normally Distributed\n",
    "Alternate Hypothesis (H₁) – Data is NOT Normally Distributed\n",
    "\n",
    "p < 0.05 → Reject the null hypothesis (H₀) → Data is not normally distributed.\n",
    "p ≥ 0.05 → Accept the null hypothesis (H₀) → Data is normally distributed.\n",
    "In the above case, p value is less than 0.05 hence Null hypothesis is rejected."
   ]
  },
  {
   "cell_type": "markdown",
   "id": "68671bfd-e7f8-4d63-a47c-57a68ea4fa7f",
   "metadata": {},
   "source": [
    "# Q5. Check the correlation between all the numerical columns and plot heatmap"
   ]
  },
  {
   "cell_type": "code",
   "execution_count": 97,
   "id": "a7138710-b599-4cc7-ba1c-0c4d374e1f79",
   "metadata": {},
   "outputs": [
    {
     "name": "stdout",
     "output_type": "stream",
     "text": [
      "Correlation Matrix:\n",
      "                     total_sqft      bath     price       bhk  price_per_sqft  \\\n",
      "total_sqft            1.000000  0.386694  0.572516  0.339936       -0.008877   \n",
      "bath                  0.386694  1.000000  0.448802  0.898875        0.030133   \n",
      "price                 0.572516  0.448802  1.000000  0.390008        0.027415   \n",
      "bhk                   0.339936  0.898875  0.390008  1.000000        0.030294   \n",
      "price_per_sqft       -0.008877  0.030133  0.027415  0.030294        1.000000   \n",
      "price_per_sqft_log    0.100041  0.424472  0.581649  0.405748        0.205213   \n",
      "\n",
      "                    price_per_sqft_log  \n",
      "total_sqft                    0.100041  \n",
      "bath                          0.424472  \n",
      "price                         0.581649  \n",
      "bhk                           0.405748  \n",
      "price_per_sqft                0.205213  \n",
      "price_per_sqft_log            1.000000  \n"
     ]
    },
    {
     "data": {
      "image/png": "[encoded data removed]",
      "text/plain": [
       "<Figure size 1000x600 with 2 Axes>"
      ]
     },
     "metadata": {},
     "output_type": "display_data"
    }
   ],
   "source": [
    "\n",
    "correlation_matrix = numeric_data.corr()                    # to find correlation b/w all numerical columns\n",
    "print(\"Correlation Matrix:\\n\", correlation_matrix)\n",
    "\n",
    "\n",
    "plt.figure(figsize=(10, 6))                                  # Heat map for corelation\n",
    "sns.heatmap(correlation_matrix, annot=True, cmap='coolwarm', linewidths=0.5)\n",
    "plt.title(\"Correlation Heatmap\")\n",
    "plt.show()"
   ]
  },
  {
   "cell_type": "markdown",
   "id": "73fbc750-8745-419c-8c84-7117f307c14f",
   "metadata": {},
   "source": [
    "# Q6. Draw Scatter plot between the variables to check the correlation between them"
   ]
  },
  {
   "cell_type": "code",
   "execution_count": 382,
   "id": "ec79f928-117d-4573-b765-0c147324f62b",
   "metadata": {},
   "outputs": [
    {
     "data": {
      "image/png": "[encoded data removed]",
      "text/plain": [
       "<Figure size 1000x500 with 1 Axes>"
      ]
     },
     "metadata": {},
     "output_type": "display_data"
    }
   ],
   "source": [
    "plt.figure(figsize=(10, 5))\n",
    "sns.scatterplot(x=data['total_sqft'], y=data['price_per_sqft'])\n",
    "plt.title(\"Total Sqft vs Price Per Sqft\")\n",
    "plt.xlabel(\"Total Sqft\")\n",
    "plt.ylabel(\"Price Per Sqft\")\n",
    "plt.show()"
   ]
  }
 ],
 "metadata": {
  "kernelspec": {
   "display_name": "Python [conda env:base] *",
   "language": "python",
   "name": "conda-base-py"
  },
  "language_info": {
   "codemirror_mode": {
    "name": "ipython",
    "version": 3
   },
   "file_extension": ".py",
   "mimetype": "text/x-python",
   "name": "python",
   "nbconvert_exporter": "python",
   "pygments_lexer": "ipython3",
   "version": "3.12.7"
  }
 },
 "nbformat": 4,
 "nbformat_minor": 5
}
